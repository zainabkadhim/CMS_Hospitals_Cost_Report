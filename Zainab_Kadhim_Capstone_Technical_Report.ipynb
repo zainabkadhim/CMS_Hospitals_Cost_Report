{
 "cells": [
  {
   "cell_type": "markdown",
   "id": "bcfdd9ba-ad06-4861-8ebd-29b921590d75",
   "metadata": {},
   "source": [
    "<div>\n",
    "    <img src=\"GA.png\" alt=\"GA\" width=\"300\"/>  \n",
    "</div>"
   ]
  },
  {
   "cell_type": "markdown",
   "id": "a4ef7bad-7db2-4815-b23a-48f10ad4dc29",
   "metadata": {},
   "source": [
    "<h1 style=\"color:navy;text-align:center;\"> CMS Hospital Report from 2018 to 2022</h1> "
   ]
  },
  {
   "cell_type": "markdown",
   "id": "8d0b64de-e345-4255-b1b8-2a74fa923737",
   "metadata": {},
   "source": [
    "## 1.0 Overview "
   ]
  },
  {
   "cell_type": "markdown",
   "id": "1fe81222-6e2d-4906-a30d-dbf90abfc75f",
   "metadata": {},
   "source": [
    "### 1.1 Introduction "
   ]
  },
  {
   "cell_type": "markdown",
   "id": "6a55aa21-5e04-4a48-8da7-ed2ab20b660c",
   "metadata": {},
   "source": [
    "<h3> <span style=\"color:royalblue;\">The financial stability of hospitals plays a vital role in sustaining the delivery of quality healthcare. In the  aftermath  </span>\n",
    "\n",
    "</h3>\n",
    "\n",
    "<h3>\n",
    "<span style=\"color:royalblue;\">of the coronavirus pandemic ( 2019 to 2021 ), hospitals have faced unprecedented challenges that disrupted overall   </span></h3>\n",
    "<h3>\n",
    "<span style=\"color:royalblue;\">  \n",
    " operations , increased costs , and labor strain. While emergency relief provided temporary support , the long-term </span>\n",
    "</h3>\n",
    "<h3>\n",
    "<span style=\"color:royalblue;\">\n",
    "  effects of the pandemic have left many facilities struggling to maintain stability.    The aim is to uncover actionable </span>\n",
    "</h3>\n",
    "\n",
    "<h3>\n",
    "<span style=\"color:royalblue;\">\n",
    "  insights that can help the stability of  healthcare system.</span>\n",
    "</h3>\n"
   ]
  },
  {
   "cell_type": "markdown",
   "id": "76ce7636-918d-416f-b9f8-68d4349ad638",
   "metadata": {},
   "source": [
    "### 1.2 Problem Statment"
   ]
  },
  {
   "cell_type": "markdown",
   "id": "3559a337-09ca-4513-9beb-081b5bfa2960",
   "metadata": {},
   "source": [
    "<h3> <span style=\"color:royalblue;\">According to CMS cost report, </span>\n",
    "<span style=\"color:blue;\"> the median of hospital profits declined sharply by 72%</span>\n",
    "<span style=\"color:royalblue;\">from  2021 to 2022. </span>\n",
    "<span style=\"color:blue;\"> </span>\n",
    "</h3>\n",
    "\n",
    "<h3>\n",
    "<span style=\"color:royalblue;\"> This decline led to staffing shortages, rising costs and strained hospital operations. The  CMS Office  of  the   </span></h3>\n",
    "<h3>\n",
    "<span style=\"color:royalblue;\">  \n",
    " Actuary  aims  to identify the root cause of the median profits fluctuations  and  develop targeted strategies</span>\n",
    "</h3>\n",
    "<h3>\n",
    "<span style=\"color:royalblue;\">\n",
    " to  stabilize  hospital profits  by  the last quarter of 2025.</span>\n",
    "</h3>\n"
   ]
  },
  {
   "cell_type": "markdown",
   "id": "e8bdfd60-ac68-4f29-a249-b3f55910beaf",
   "metadata": {},
   "source": [
    "### 1.3 Objectives "
   ]
  },
  {
   "cell_type": "markdown",
   "id": "0bff7c5a-1e8b-4c92-850f-67882fed72db",
   "metadata": {
    "jp-MarkdownHeadingCollapsed": true
   },
   "source": [
    "<h4 style=\"padding-left: 2em;\">\n",
    "    <span style=\"color:royalblue;\">1. How did the</span><span style=\"color:blue;\"> Median Profits </span><span style=\"color:royalblue;\">change over the</span> <span style=\"color:blue;\">Years </span><span style=\"color:royalblue;\"> ?</span>\n",
    "</h4>\n",
    "\n",
    "<h4 style=\"padding-left: 2em;\">\n",
    "    <span style=\"color:royalblue;\"> 2. What is the distrbution of Hospitals across</span><span style=\"color:blue;\"></span> <span style=\"color:blue;\"> Segments</span></span><span style=\"color:royalblue;\"> ?</span>\n",
    "</h4>\n",
    "\n",
    "<h4 style=\"padding-left: 2em;\">\n",
    "    <span style=\"color:royalblue;\"> 3. What is the distrbution of Hospitals across</span><span style=\"color:blue;\"></span> <span style=\"color:blue;\"> Hospital Size</span></span><span style=\"color:royalblue;\"> ?</span>\n",
    "</h4>\n",
    "\n",
    "<h4 style=\"padding-left: 2em;\">\n",
    "    <span style=\"color:royalblue;\"> 4. What is the distrbution of Hospitals across</span><span style=\"color:blue;\"></span> <span style=\"color:blue;\"> Facilty Type</span></span><span style=\"color:royalblue;\"> ?</span>\n",
    "</h4>\n",
    "\n",
    "<h4 style=\"padding-left: 2em;\">\n",
    "    <span style=\"color:royalblue;\"> 5. What is the distrbution of</span><span style=\"color:blue;\"> Total Profits</span><span style=\"color:royalblue;\"> across different</span> <span style=\"color:blue;\"> Segments</span></span><span style=\"color:royalblue;\"> ?</span>\n",
    "</h4>\n",
    "\n",
    "<h4 style=\"padding-left: 2em;\">\n",
    "    <span style=\"color:royalblue;\"> 6. What is the distrbution of</span><span style=\"color:blue;\"> Total Profits</span><span style=\"color:royalblue;\"> across different</span> <span style=\"color:blue;\"> Hospital Size</span></span><span style=\"color:royalblue;\"> ?</span>\n",
    "</h4>\n",
    "\n",
    "<h4 style=\"padding-left: 2em;\">\n",
    "    <span style=\"color:royalblue;\"> 7. What is the distrbution of</span><span style=\"color:blue;\"> Total Profits</span><span style=\"color:royalblue;\"> across different</span> <span style=\"color:blue;\"> Facilty Type</span></span><span style=\"color:royalblue;\"> ?</span>\n",
    "</h4>\n",
    "\n",
    "<h4 style=\"padding-left: 2em;\">\n",
    "    <span style=\"color:royalblue;\"> 8. Comparison between</span><span style=\"color:blue;\"> General Short-Term Hospitals</span><span style=\"color:royalblue;\"> & </span> <span style=\"color:blue;\"> Other Hospitals </span></span><span style=\"color:royalblue;\"> :</span>\n",
    "</h4>\n",
    "\n",
    "<h4 style=\"padding-left: 5em;\">\n",
    "    <span style=\"color:blue;\"> - Profit</span> <span style=\"color:royalblue;\"> over </span>  <span style=\"color:blue;\"> Years</span>\n",
    "</h4>\n",
    "\n",
    "<h4 style=\"padding-left: 5em;\">\n",
    "    <span style=\"color:blue;\"> - Total Cost</span><span style=\"color:royalblue;\"> and</span> <span style=\"color:blue;\"> Total Revenue </span><span style=\"color:royalblue;\"> over </span>  <span style=\"color:blue;\"> Years</span>\n",
    "</h4>\n",
    "\n",
    "<h4 style=\"padding-left: 5em;\">\n",
    "    <span style=\"color:blue;\"> - Operational Costs</span><span style=\"color:royalblue;\"> and</span> <span style=\"color:blue;\"> Additional Costs</span><span style=\"color:royalblue;\"> over </span> <span style=\"color:blue;\"> Years</span>\n",
    "</h4>\n",
    "\n",
    "<h4 style=\"padding-left: 5em;\">\n",
    "    <span style=\"color:blue;\"> - Pateint Revenue</span><span style=\"color:royalblue;\"> and</span> <span style=\"color:blue;\"> Additional Revenue</span><span style=\"color:royalblue;\"> over </span> <span style=\"color:blue;\"> Years</span>\n",
    "</h4>"
   ]
  },
  {
   "cell_type": "markdown",
   "id": "2a04aabf-8807-468c-96fd-fc8aa6d99d3a",
   "metadata": {},
   "source": [
    "### 1.4 Target Audience "
   ]
  },
  {
   "cell_type": "markdown",
   "id": "e6d98584-198c-41d2-9a5a-5114249f0f04",
   "metadata": {
    "jp-MarkdownHeadingCollapsed": true
   },
   "source": [
    "<h4 style=\"padding-left: 2em;\">\n",
    "    <span style=\"color:blue;\">United States of America population:</span>\n",
    "     <span style=\"color:royalblue;\">To ensure access to affordable, reliable, and sustainable healthcare services.</span>\n",
    "</h4>\n",
    "\n",
    "\n",
    "<h4 style=\"padding-left: 2em;\">\n",
    "    <span style=\"color:blue;\">CMS and Hospital Financial Executives:</span>\n",
    "     <span style=\"color:royalblue;\">To guide decision-making on financial policies, cost management, and long-term sustainability</span>\n",
    "     \n",
    "</h4>\n",
    "<h4 style=\"padding-left: 2em;\"><span style=\"color:royalblue;\"> of hospital systems.</span></h4>\n",
    "\n",
    "<h4 style=\"padding-left: 2em;\">\n",
    "    <span style=\"color:blue;\">Health Economists or Researchers:</span><span style=\"color:royalblue;\">To analyze trends, evaluate the impact of financial fluctuations and provide evidence-based insights</span>\n",
    "</h4>\n",
    "\n",
    "<h4 style=\"padding-left: 2em;\"><span style=\"color:royalblue;\"> on policy support and operational decisions</span></h4>"
   ]
  },
  {
   "cell_type": "markdown",
   "id": "54fbf188-8527-438b-9799-7d83d58661ce",
   "metadata": {
    "jp-MarkdownHeadingCollapsed": true
   },
   "source": [
    "## 2.0 Datasets"
   ]
  },
  {
   "cell_type": "markdown",
   "id": "50f8ddf2-4502-4ecf-9906-c13f349a34eb",
   "metadata": {},
   "source": [
    "### 2.1 Importation "
   ]
  },
  {
   "cell_type": "code",
   "execution_count": 262,
   "id": "d89f2e6a-3d27-4c82-bd91-ec308c6014ae",
   "metadata": {},
   "outputs": [],
   "source": [
    "# These are my datasets, which are 5 \"CMS Hospital Reports\", each report represents a different year from 2018 to 2022\n",
    "\n",
    "import pandas as pd\n",
    "df2018 = pd.read_csv('CostReport_2018_Final.csv')\n",
    "df2019 = pd.read_csv('CostReport_2019_Final.csv')\n",
    "df2020 = pd.read_csv('CostReport_2020_Final.csv')\n",
    "df2021 = pd.read_csv('CostReport_2021_Final.csv')\n",
    "df2022 = pd.read_csv('CostReport_2022_Final.csv')\n",
    "\n",
    "# This is the union of the 5 reports \n",
    "\n",
    "dataset = pd.concat([df2018,df2019,df2020,df2021,df2022] , axis = 0, ignore_index= True )\n"
   ]
  },
  {
   "cell_type": "markdown",
   "id": "bed67123-7467-4dca-85a5-2d3a05bc576e",
   "metadata": {},
   "source": [
    "### 2.2 Raw Data"
   ]
  },
  {
   "cell_type": "code",
   "execution_count": 263,
   "id": "3cdca423-9284-4f60-bffb-dd3ac6d38fe9",
   "metadata": {},
   "outputs": [],
   "source": [
    "# Saving the unioned data as raw data\n",
    "\n",
    "#dataset.to_csv('raw.csv', index=False)\n",
    "\n",
    "# All the column names\n",
    "All_columns = list(dataset.columns)"
   ]
  },
  {
   "cell_type": "markdown",
   "id": "20e75b35-f4a9-4b51-8d8b-d650f2d488f5",
   "metadata": {},
   "source": [
    "### 2.3 Data Dictionary "
   ]
  },
  {
   "cell_type": "markdown",
   "id": "2b822b27-4a87-4436-b4c0-32bc069bff76",
   "metadata": {},
   "source": [
    "<h4><span style=\"color:red;\">This document is attached separately by the name \"Data Dictionary\"</span></h4>"
   ]
  },
  {
   "cell_type": "markdown",
   "id": "ba77e145-3c98-4144-801d-177e485b2680",
   "metadata": {
    "jp-MarkdownHeadingCollapsed": true
   },
   "source": [
    "## 3.0 Data Handling "
   ]
  },
  {
   "cell_type": "markdown",
   "id": "ced34c80-5016-4a77-ad6e-ea96a12c2ec6",
   "metadata": {},
   "source": [
    "### 3.1 Extraction  "
   ]
  },
  {
   "cell_type": "code",
   "execution_count": 264,
   "id": "5b99ceb5-34c3-452d-9b93-0575c43ee536",
   "metadata": {},
   "outputs": [],
   "source": [
    "# choosing only columns necessary for the analysis\n",
    "\n",
    "trail = dataset[[\n",
    "'Year',\n",
    "'rpt_rec_num',\n",
    "'Hospital Name',\n",
    "'City',\n",
    "'State Code',\n",
    "'Rural Versus Urban',\n",
    "'Provider Type',\n",
    "'Type of Control',\n",
    "'Number of Beds + Total for all Subproviders',\n",
    "'Total Costs',\n",
    "'Less Total Operating Expense',\n",
    "'Total Other Expenses',\n",
    "'Combined Outpatient + Inpatient Total Charges',\n",
    "'Net Patient Revenue',\n",
    "'Total Other Income',\n",
    "'Net Income',\n",
    "'Cost To Charge Ratio',\n",
    "]]"
   ]
  },
  {
   "cell_type": "markdown",
   "id": "e8408207-2b91-4002-99da-764ac75d48ad",
   "metadata": {},
   "source": [
    "### 3.2 Cleaning"
   ]
  },
  {
   "cell_type": "markdown",
   "id": "0572ad3e-afd5-41da-aa7d-f4b2d90d7541",
   "metadata": {},
   "source": [
    "#### 3.2.1 Missing Data"
   ]
  },
  {
   "cell_type": "code",
   "execution_count": 265,
   "id": "db712695-9028-4fb1-ae62-e50867f37d89",
   "metadata": {},
   "outputs": [
    {
     "data": {
      "text/plain": [
       "Year                                              0.000000\n",
       "rpt_rec_num                                       0.000000\n",
       "Hospital Name                                     0.000000\n",
       "City                                              0.000000\n",
       "State Code                                        0.000000\n",
       "Rural Versus Urban                                1.254227\n",
       "Provider Type                                     0.000000\n",
       "Type of Control                                   0.000000\n",
       "Number of Beds + Total for all Subproviders       1.313327\n",
       "Total Costs                                       1.254227\n",
       "Less Total Operating Expense                      1.461076\n",
       "Total Other Expenses                             69.287848\n",
       "Combined Outpatient + Inpatient Total Charges     1.270644\n",
       "Net Patient Revenue                               4.002364\n",
       "Total Other Income                                4.977509\n",
       "Net Income                                        1.490626\n",
       "Cost To Charge Ratio                             23.390354\n",
       "dtype: float64"
      ]
     },
     "execution_count": 265,
     "metadata": {},
     "output_type": "execute_result"
    }
   ],
   "source": [
    "# the Percentage of messing data\n",
    "trail.isnull().mean()*100"
   ]
  },
  {
   "cell_type": "code",
   "execution_count": 266,
   "id": "887a7c8e-27a7-459a-9618-8b8cffddad58",
   "metadata": {},
   "outputs": [
    {
     "name": "stderr",
     "output_type": "stream",
     "text": [
      "C:\\Users\\user\\AppData\\Local\\Temp\\ipykernel_21796\\3423897854.py:24: SettingWithCopyWarning: \n",
      "A value is trying to be set on a copy of a slice from a DataFrame.\n",
      "Try using .loc[row_indexer,col_indexer] = value instead\n",
      "\n",
      "See the caveats in the documentation: https://pandas.pydata.org/pandas-docs/stable/user_guide/indexing.html#returning-a-view-versus-a-copy\n",
      "  trail['Rural Versus Urban'] = trail['Rural Versus Urban'].str.strip()\n",
      "C:\\Users\\user\\AppData\\Local\\Temp\\ipykernel_21796\\3423897854.py:25: SettingWithCopyWarning: \n",
      "A value is trying to be set on a copy of a slice from a DataFrame.\n",
      "Try using .loc[row_indexer,col_indexer] = value instead\n",
      "\n",
      "See the caveats in the documentation: https://pandas.pydata.org/pandas-docs/stable/user_guide/indexing.html#returning-a-view-versus-a-copy\n",
      "  trail['Rural Versus Urban'] = trail['Rural Versus Urban'].fillna(\n"
     ]
    }
   ],
   "source": [
    "# Rural Versus Urban Cleaning \n",
    "\n",
    "# The cities of the hospital were the 'Rural Versus Urban' value is missing\n",
    "trail[trail['Rural Versus Urban'].isnull()][['City']]\n",
    "\n",
    "# the urban cites and empty list\n",
    "\n",
    "urban_cities = [\n",
    "    \"DALLAS\", \"EAST PROVIDENCE\", \"ANCHORAGE\", \"BROOKLYN PARK\", \"ST LOUIS\",\n",
    "    \"CINCINNATI\", \"CLEVELAND\", \"NEW YORK\", \"CHICAGO\", \"MINNEAPOLIS\",\n",
    "    \"CHARLOTTE\", \"BOSTON\", \"TROY\", \"SPRINGDALE\", \"COLUMBUS\",\n",
    "    \"TAMPA\", \"PITTSBURGH\", \"RICHMOND\", \"INDIANAPOLIS\", \"MEMPHIS\",\n",
    "    \"SAN DIEGO\", \"LOS ANGELES\", \"PHILADELPHIA\", \"SACRAMENTO\", \"HOUSTON\",\n",
    "    \"NASHVILLE\", \"FORT WALTON BCH\", \"BALTIMORE\", \"GALVESTON\", \"SPOKANE\",\n",
    "    \"TULSA\", \"MIAMI\", \"HONOLULU\", \"VIRGINIA BEACH\", \"SIOUX FALLS\",\n",
    "    \"LONG BEACH\", \"MOBILE\", \"BIRMINGHAM\", \"MIDDLETOWN\", \"DOTHAN\",\n",
    "    \"LUVERNE\", \"MAYAGUEZ\", \"TACOMA\", \"SANTA CLARA\", \"DAYTON\",\n",
    "    \"ARLINGTON\", \"LITTLE ROCK\"\n",
    "]  \n",
    "\n",
    "\n",
    "\n",
    "# Filling the nulls with the estimated column\n",
    "trail['Rural Versus Urban'] = trail['Rural Versus Urban'].str.strip()\n",
    "trail['Rural Versus Urban'] = trail['Rural Versus Urban'].fillna(\n",
    "    trail['City'].apply(lambda x: 'U' if x in urban_cities else 'R')\n",
    ")\n"
   ]
  },
  {
   "cell_type": "code",
   "execution_count": 267,
   "id": "e20a3395-6437-495e-b425-08aab5827c08",
   "metadata": {},
   "outputs": [
    {
     "name": "stderr",
     "output_type": "stream",
     "text": [
      "C:\\Users\\user\\AppData\\Local\\Temp\\ipykernel_21796\\1902083440.py:4: SettingWithCopyWarning: \n",
      "A value is trying to be set on a copy of a slice from a DataFrame\n",
      "\n",
      "See the caveats in the documentation: https://pandas.pydata.org/pandas-docs/stable/user_guide/indexing.html#returning-a-view-versus-a-copy\n",
      "  trail.dropna(subset = ['Number of Beds + Total for all Subproviders'] , inplace = True)\n"
     ]
    }
   ],
   "source": [
    "# Number of Beds + Total for all Subproviders\n",
    "\n",
    "# Removing the empty rows because it doesn't have a meaning and cannot be outsourced based on research\n",
    "trail.dropna(subset = ['Number of Beds + Total for all Subproviders'] , inplace = True)"
   ]
  },
  {
   "cell_type": "code",
   "execution_count": 268,
   "id": "397801a6-5797-4f35-8286-8137778686b6",
   "metadata": {},
   "outputs": [
    {
     "name": "stderr",
     "output_type": "stream",
     "text": [
      "C:\\Users\\user\\AppData\\Local\\Temp\\ipykernel_21796\\2786884391.py:4: SettingWithCopyWarning: \n",
      "A value is trying to be set on a copy of a slice from a DataFrame\n",
      "\n",
      "See the caveats in the documentation: https://pandas.pydata.org/pandas-docs/stable/user_guide/indexing.html#returning-a-view-versus-a-copy\n",
      "  trail.dropna(subset = ['Less Total Operating Expense'] , inplace = True)\n"
     ]
    }
   ],
   "source": [
    "# Less Total Operating Expense Cleaning \n",
    "\n",
    "# Removing the empty rows because it doesn't have a meaning and cannot be outsourced based on research\n",
    "trail.dropna(subset = ['Less Total Operating Expense'] , inplace = True)"
   ]
  },
  {
   "cell_type": "code",
   "execution_count": 269,
   "id": "3a0b7e55-f055-42e3-9d0a-2b52296769c9",
   "metadata": {},
   "outputs": [
    {
     "name": "stderr",
     "output_type": "stream",
     "text": [
      "C:\\Users\\user\\AppData\\Local\\Temp\\ipykernel_21796\\551757025.py:4: SettingWithCopyWarning: \n",
      "A value is trying to be set on a copy of a slice from a DataFrame.\n",
      "Try using .loc[row_indexer,col_indexer] = value instead\n",
      "\n",
      "See the caveats in the documentation: https://pandas.pydata.org/pandas-docs/stable/user_guide/indexing.html#returning-a-view-versus-a-copy\n",
      "  trail['Total Other Expenses'] = trail['Total Other Expenses'].fillna(0)\n"
     ]
    }
   ],
   "source": [
    "# Total Other Expenses Cleaning \n",
    "\n",
    "# If there is no value, it means that it does not have other expenses\n",
    "trail['Total Other Expenses'] = trail['Total Other Expenses'].fillna(0)\n"
   ]
  },
  {
   "cell_type": "code",
   "execution_count": 270,
   "id": "aec64ce4-8ed0-4845-924a-6002635f1ce1",
   "metadata": {},
   "outputs": [
    {
     "name": "stderr",
     "output_type": "stream",
     "text": [
      "C:\\Users\\user\\AppData\\Local\\Temp\\ipykernel_21796\\3067599342.py:4: SettingWithCopyWarning: \n",
      "A value is trying to be set on a copy of a slice from a DataFrame\n",
      "\n",
      "See the caveats in the documentation: https://pandas.pydata.org/pandas-docs/stable/user_guide/indexing.html#returning-a-view-versus-a-copy\n",
      "  trail.dropna(subset = ['Combined Outpatient + Inpatient Total Charges'] , inplace = True)\n"
     ]
    }
   ],
   "source": [
    "# Combined Outpatient + Inpatient Total Charges \n",
    "\n",
    "# Removing the empty rows because it doesn't have a meaning and cannot be outsourced based on research\n",
    "trail.dropna(subset = ['Combined Outpatient + Inpatient Total Charges'] , inplace = True)"
   ]
  },
  {
   "cell_type": "code",
   "execution_count": 271,
   "id": "c94c7501-086f-445d-8ead-5ce5aaf68f75",
   "metadata": {},
   "outputs": [
    {
     "name": "stderr",
     "output_type": "stream",
     "text": [
      "C:\\Users\\user\\AppData\\Local\\Temp\\ipykernel_21796\\2535453551.py:4: SettingWithCopyWarning: \n",
      "A value is trying to be set on a copy of a slice from a DataFrame\n",
      "\n",
      "See the caveats in the documentation: https://pandas.pydata.org/pandas-docs/stable/user_guide/indexing.html#returning-a-view-versus-a-copy\n",
      "  trail.dropna(subset = ['Net Patient Revenue'] , inplace = True)\n"
     ]
    }
   ],
   "source": [
    "# Net Patient Revenue \n",
    "                              \n",
    "# Removing the empty rows because it doesn't have a meaning and cannot be outsourced based on research\n",
    "trail.dropna(subset = ['Net Patient Revenue'] , inplace = True)"
   ]
  },
  {
   "cell_type": "code",
   "execution_count": 272,
   "id": "fac53ee7-fa19-4ed5-b74b-43e20fafe461",
   "metadata": {},
   "outputs": [
    {
     "name": "stderr",
     "output_type": "stream",
     "text": [
      "C:\\Users\\user\\AppData\\Local\\Temp\\ipykernel_21796\\1198175325.py:4: SettingWithCopyWarning: \n",
      "A value is trying to be set on a copy of a slice from a DataFrame.\n",
      "Try using .loc[row_indexer,col_indexer] = value instead\n",
      "\n",
      "See the caveats in the documentation: https://pandas.pydata.org/pandas-docs/stable/user_guide/indexing.html#returning-a-view-versus-a-copy\n",
      "  trail['Total Other Income'] = trail['Total Other Income'].fillna(0)\n"
     ]
    }
   ],
   "source": [
    "# Total Other Income\n",
    "                              \n",
    "# Removing the empty rows because it doesn't have a meaning and cannot be outsourced based on research\n",
    "trail['Total Other Income'] = trail['Total Other Income'].fillna(0)"
   ]
  },
  {
   "cell_type": "code",
   "execution_count": 273,
   "id": "4a1fd0b9-9c37-4bcb-be1e-aebf92bfdead",
   "metadata": {},
   "outputs": [
    {
     "name": "stderr",
     "output_type": "stream",
     "text": [
      "C:\\Users\\user\\AppData\\Local\\Temp\\ipykernel_21796\\718759529.py:4: SettingWithCopyWarning: \n",
      "A value is trying to be set on a copy of a slice from a DataFrame\n",
      "\n",
      "See the caveats in the documentation: https://pandas.pydata.org/pandas-docs/stable/user_guide/indexing.html#returning-a-view-versus-a-copy\n",
      "  trail.dropna(subset = ['Net Income'] , inplace = True)\n"
     ]
    }
   ],
   "source": [
    "# Net Income \n",
    "                              \n",
    "# Removing the empty rows because it doesn't have a meaning and cannot be outsourced based on research\n",
    "trail.dropna(subset = ['Net Income'] , inplace = True)"
   ]
  },
  {
   "cell_type": "code",
   "execution_count": 274,
   "id": "9d46ad2e-30c6-4d4c-a489-91785f466f77",
   "metadata": {},
   "outputs": [
    {
     "name": "stderr",
     "output_type": "stream",
     "text": [
      "C:\\Users\\user\\AppData\\Local\\Temp\\ipykernel_21796\\3990645359.py:2: SettingWithCopyWarning: \n",
      "A value is trying to be set on a copy of a slice from a DataFrame.\n",
      "Try using .loc[row_indexer,col_indexer] = value instead\n",
      "\n",
      "See the caveats in the documentation: https://pandas.pydata.org/pandas-docs/stable/user_guide/indexing.html#returning-a-view-versus-a-copy\n",
      "  trail['Cost To Charge Ratio'] = trail['Cost To Charge Ratio'].fillna(trail['Total Costs']/ trail['Combined Outpatient + Inpatient Total Charges'])\n"
     ]
    }
   ],
   "source": [
    "# Cost To Charge Ratio Cleaning \n",
    "trail['Cost To Charge Ratio'] = trail['Cost To Charge Ratio'].fillna(trail['Total Costs']/ trail['Combined Outpatient + Inpatient Total Charges'])"
   ]
  },
  {
   "cell_type": "code",
   "execution_count": 275,
   "id": "b0e422df-79d3-4869-9a17-f49a214e4b46",
   "metadata": {},
   "outputs": [
    {
     "data": {
      "text/plain": [
       "Year                                             0.0\n",
       "rpt_rec_num                                      0.0\n",
       "Hospital Name                                    0.0\n",
       "City                                             0.0\n",
       "State Code                                       0.0\n",
       "Rural Versus Urban                               0.0\n",
       "Provider Type                                    0.0\n",
       "Type of Control                                  0.0\n",
       "Number of Beds + Total for all Subproviders      0.0\n",
       "Total Costs                                      0.0\n",
       "Less Total Operating Expense                     0.0\n",
       "Total Other Expenses                             0.0\n",
       "Combined Outpatient + Inpatient Total Charges    0.0\n",
       "Net Patient Revenue                              0.0\n",
       "Total Other Income                               0.0\n",
       "Net Income                                       0.0\n",
       "Cost To Charge Ratio                             0.0\n",
       "dtype: float64"
      ]
     },
     "execution_count": 275,
     "metadata": {},
     "output_type": "execute_result"
    }
   ],
   "source": [
    "# Sanity Check\n",
    "trail.isnull().mean()*100"
   ]
  },
  {
   "cell_type": "markdown",
   "id": "4427e1bb-ce97-41ec-a0fb-5447102c6451",
   "metadata": {},
   "source": [
    "#### 3.2.2 Duplicates"
   ]
  },
  {
   "cell_type": "code",
   "execution_count": 276,
   "id": "750242ba-9073-4cfc-93ea-fcb238f32e2a",
   "metadata": {},
   "outputs": [
    {
     "data": {
      "text/plain": [
       "0"
      ]
     },
     "execution_count": 276,
     "metadata": {},
     "output_type": "execute_result"
    }
   ],
   "source": [
    "# No duplicates \n",
    "\n",
    "trail.duplicated().sum()"
   ]
  },
  {
   "cell_type": "markdown",
   "id": "0ff8b194-b448-424a-a08f-adfec435554f",
   "metadata": {},
   "source": [
    "#### 3.2.3 New Columns"
   ]
  },
  {
   "cell_type": "code",
   "execution_count": 277,
   "id": "72b83235-2ac7-48a6-a32f-36972783abe7",
   "metadata": {},
   "outputs": [
    {
     "name": "stderr",
     "output_type": "stream",
     "text": [
      "C:\\Users\\user\\AppData\\Local\\Temp\\ipykernel_21796\\2781450142.py:13: SettingWithCopyWarning: \n",
      "A value is trying to be set on a copy of a slice from a DataFrame.\n",
      "Try using .loc[row_indexer,col_indexer] = value instead\n",
      "\n",
      "See the caveats in the documentation: https://pandas.pydata.org/pandas-docs/stable/user_guide/indexing.html#returning-a-view-versus-a-copy\n",
      "  trail['Hospital Size'] = trail['Number of Beds + Total for all Subproviders'].apply(categorize_hospital)\n"
     ]
    }
   ],
   "source": [
    "# Categories hospital size based on the number of beds\n",
    "\n",
    "def categorize_hospital(beds):\n",
    "    if beds < 100:\n",
    "        return 'Small'\n",
    "    elif beds < 300:\n",
    "        return 'Medium'\n",
    "    elif beds < 500:\n",
    "        return 'Large'\n",
    "    else:\n",
    "        return 'Very Large'\n",
    "\n",
    "trail['Hospital Size'] = trail['Number of Beds + Total for all Subproviders'].apply(categorize_hospital)"
   ]
  },
  {
   "cell_type": "code",
   "execution_count": 278,
   "id": "fb1494c0-4bc2-45f2-a3a2-702ee417ad3e",
   "metadata": {},
   "outputs": [
    {
     "name": "stderr",
     "output_type": "stream",
     "text": [
      "C:\\Users\\user\\AppData\\Local\\Temp\\ipykernel_21796\\3388350530.py:30: SettingWithCopyWarning: \n",
      "A value is trying to be set on a copy of a slice from a DataFrame.\n",
      "Try using .loc[row_indexer,col_indexer] = value instead\n",
      "\n",
      "See the caveats in the documentation: https://pandas.pydata.org/pandas-docs/stable/user_guide/indexing.html#returning-a-view-versus-a-copy\n",
      "  trail['Provider Type'] = trail['Provider Type'].apply(provider_type_value)\n"
     ]
    }
   ],
   "source": [
    "# Replace the provider type number with the real value based on the data dictionary \n",
    "def provider_type_value(n):\n",
    "    if n == 1:\n",
    "        return 'General Short Term'\n",
    "    elif n == 2:\n",
    "        return 'General Long Term'\n",
    "    elif n == 3:\n",
    "        return 'Cancer'\n",
    "    elif n == 4:\n",
    "        return 'Psychiatric'\n",
    "    elif n == 5:\n",
    "        return 'Rehabilitation'\n",
    "    elif n == 6:\n",
    "        return 'Religious Non-Medical Health Care Institution'\n",
    "    elif n == 7:\n",
    "        return 'Children'\n",
    "    elif n == 8:\n",
    "        return 'Reserved for Future Use'\n",
    "    elif n == 9:\n",
    "        return 'Other'\n",
    "    elif n == 10:\n",
    "        return 'Extended Neoplastic Disease Care'\n",
    "    elif n == 11:\n",
    "        return 'Indian Health Services'\n",
    "    elif n == 12:\n",
    "        return 'Rural Emergency Hospital'\n",
    "    else:\n",
    "        return 'Unknown'\n",
    "\n",
    "trail['Provider Type'] = trail['Provider Type'].apply(provider_type_value)"
   ]
  },
  {
   "cell_type": "code",
   "execution_count": 279,
   "id": "0a416a2b-57ec-428b-bd54-11cfe911209c",
   "metadata": {},
   "outputs": [
    {
     "name": "stderr",
     "output_type": "stream",
     "text": [
      "C:\\Users\\user\\AppData\\Local\\Temp\\ipykernel_21796\\34600342.py:10: SettingWithCopyWarning: \n",
      "A value is trying to be set on a copy of a slice from a DataFrame.\n",
      "Try using .loc[row_indexer,col_indexer] = value instead\n",
      "\n",
      "See the caveats in the documentation: https://pandas.pydata.org/pandas-docs/stable/user_guide/indexing.html#returning-a-view-versus-a-copy\n",
      "  trail['Type of Control'] = trail['Type of Control'].apply(control_type_value)\n"
     ]
    }
   ],
   "source": [
    "# Replace the control type number with the real value based on the data dictionary \n",
    "def control_type_value(n):\n",
    "    if n == 1 or n == 2:\n",
    "        return 'Voluntary Non-Profit'\n",
    "    elif n == 3 or n == 4 or n == 5 or n == 6:\n",
    "        return 'Private'\n",
    "    else:\n",
    "        return 'Public'\n",
    "\n",
    "trail['Type of Control'] = trail['Type of Control'].apply(control_type_value)\n"
   ]
  },
  {
   "cell_type": "code",
   "execution_count": 280,
   "id": "64282d80-ddb0-4ec6-a4b5-2a964e275019",
   "metadata": {},
   "outputs": [
    {
     "data": {
      "text/html": [
       "<div>\n",
       "<style scoped>\n",
       "    .dataframe tbody tr th:only-of-type {\n",
       "        vertical-align: middle;\n",
       "    }\n",
       "\n",
       "    .dataframe tbody tr th {\n",
       "        vertical-align: top;\n",
       "    }\n",
       "\n",
       "    .dataframe thead th {\n",
       "        text-align: right;\n",
       "    }\n",
       "</style>\n",
       "<table border=\"1\" class=\"dataframe\">\n",
       "  <thead>\n",
       "    <tr style=\"text-align: right;\">\n",
       "      <th></th>\n",
       "      <th>Year</th>\n",
       "      <th>rpt_rec_num</th>\n",
       "      <th>Hospital Name</th>\n",
       "      <th>City</th>\n",
       "      <th>State Code</th>\n",
       "      <th>Rural Versus Urban</th>\n",
       "      <th>Provider Type</th>\n",
       "      <th>Type of Control</th>\n",
       "      <th>Number of Beds + Total for all Subproviders</th>\n",
       "      <th>Total Costs</th>\n",
       "      <th>Less Total Operating Expense</th>\n",
       "      <th>Total Other Expenses</th>\n",
       "      <th>Combined Outpatient + Inpatient Total Charges</th>\n",
       "      <th>Net Patient Revenue</th>\n",
       "      <th>Total Other Income</th>\n",
       "      <th>Net Income</th>\n",
       "      <th>Cost To Charge Ratio</th>\n",
       "      <th>Hospital Size</th>\n",
       "    </tr>\n",
       "  </thead>\n",
       "  <tbody>\n",
       "    <tr>\n",
       "      <th>1</th>\n",
       "      <td>2018</td>\n",
       "      <td>644158</td>\n",
       "      <td>CHOWAN HOSPITAL INC.</td>\n",
       "      <td>EDENTON</td>\n",
       "      <td>NC</td>\n",
       "      <td>R</td>\n",
       "      <td>General Short Term</td>\n",
       "      <td>Voluntary Non-Profit</td>\n",
       "      <td>25.0</td>\n",
       "      <td>42664330.0</td>\n",
       "      <td>50776060.0</td>\n",
       "      <td>0.0</td>\n",
       "      <td>124601974.0</td>\n",
       "      <td>56681179.0</td>\n",
       "      <td>1211964.0</td>\n",
       "      <td>7117083.0</td>\n",
       "      <td>0.342405</td>\n",
       "      <td>Small</td>\n",
       "    </tr>\n",
       "    <tr>\n",
       "      <th>2</th>\n",
       "      <td>2018</td>\n",
       "      <td>644255</td>\n",
       "      <td>SPECIALTY HOSPITAL OF JACKSONVILLE</td>\n",
       "      <td>JACKSONVILLE</td>\n",
       "      <td>FL</td>\n",
       "      <td>U</td>\n",
       "      <td>General Long Term</td>\n",
       "      <td>Private</td>\n",
       "      <td>107.0</td>\n",
       "      <td>4816886.0</td>\n",
       "      <td>6699445.0</td>\n",
       "      <td>-522.0</td>\n",
       "      <td>21693793.0</td>\n",
       "      <td>4729380.0</td>\n",
       "      <td>35748.0</td>\n",
       "      <td>-1933795.0</td>\n",
       "      <td>0.222040</td>\n",
       "      <td>Medium</td>\n",
       "    </tr>\n",
       "    <tr>\n",
       "      <th>3</th>\n",
       "      <td>2018</td>\n",
       "      <td>644287</td>\n",
       "      <td>MARTHAS VINEYARD HOSPITAL</td>\n",
       "      <td>OAK BLUFFS</td>\n",
       "      <td>MA</td>\n",
       "      <td>R</td>\n",
       "      <td>Other</td>\n",
       "      <td>Voluntary Non-Profit</td>\n",
       "      <td>25.0</td>\n",
       "      <td>70934033.0</td>\n",
       "      <td>89678418.0</td>\n",
       "      <td>0.0</td>\n",
       "      <td>140704369.0</td>\n",
       "      <td>84069106.0</td>\n",
       "      <td>5668549.0</td>\n",
       "      <td>59237.0</td>\n",
       "      <td>0.504135</td>\n",
       "      <td>Small</td>\n",
       "    </tr>\n",
       "    <tr>\n",
       "      <th>5</th>\n",
       "      <td>2018</td>\n",
       "      <td>644638</td>\n",
       "      <td>LINCOLNHEALTH</td>\n",
       "      <td>BOOTHBAY HARBOR</td>\n",
       "      <td>ME</td>\n",
       "      <td>R</td>\n",
       "      <td>General Short Term</td>\n",
       "      <td>Voluntary Non-Profit</td>\n",
       "      <td>67.0</td>\n",
       "      <td>69897267.0</td>\n",
       "      <td>84572642.0</td>\n",
       "      <td>0.0</td>\n",
       "      <td>122176726.0</td>\n",
       "      <td>85209941.0</td>\n",
       "      <td>4316918.0</td>\n",
       "      <td>4954217.0</td>\n",
       "      <td>0.572100</td>\n",
       "      <td>Small</td>\n",
       "    </tr>\n",
       "    <tr>\n",
       "      <th>6</th>\n",
       "      <td>2018</td>\n",
       "      <td>645205</td>\n",
       "      <td>ROANE GENERAL HOSPITAL</td>\n",
       "      <td>SPENCER</td>\n",
       "      <td>WV</td>\n",
       "      <td>R</td>\n",
       "      <td>General Short Term</td>\n",
       "      <td>Voluntary Non-Profit</td>\n",
       "      <td>69.0</td>\n",
       "      <td>32653217.0</td>\n",
       "      <td>36275012.0</td>\n",
       "      <td>0.0</td>\n",
       "      <td>82947748.0</td>\n",
       "      <td>35195713.0</td>\n",
       "      <td>3092079.0</td>\n",
       "      <td>2012780.0</td>\n",
       "      <td>0.393660</td>\n",
       "      <td>Small</td>\n",
       "    </tr>\n",
       "  </tbody>\n",
       "</table>\n",
       "</div>"
      ],
      "text/plain": [
       "   Year  rpt_rec_num                       Hospital Name             City  \\\n",
       "1  2018       644158                CHOWAN HOSPITAL INC.          EDENTON   \n",
       "2  2018       644255  SPECIALTY HOSPITAL OF JACKSONVILLE     JACKSONVILLE   \n",
       "3  2018       644287           MARTHAS VINEYARD HOSPITAL       OAK BLUFFS   \n",
       "5  2018       644638                       LINCOLNHEALTH  BOOTHBAY HARBOR   \n",
       "6  2018       645205              ROANE GENERAL HOSPITAL          SPENCER   \n",
       "\n",
       "  State Code Rural Versus Urban       Provider Type       Type of Control  \\\n",
       "1         NC                  R  General Short Term  Voluntary Non-Profit   \n",
       "2         FL                  U   General Long Term               Private   \n",
       "3         MA                  R               Other  Voluntary Non-Profit   \n",
       "5         ME                  R  General Short Term  Voluntary Non-Profit   \n",
       "6         WV                  R  General Short Term  Voluntary Non-Profit   \n",
       "\n",
       "   Number of Beds + Total for all Subproviders  Total Costs  \\\n",
       "1                                         25.0   42664330.0   \n",
       "2                                        107.0    4816886.0   \n",
       "3                                         25.0   70934033.0   \n",
       "5                                         67.0   69897267.0   \n",
       "6                                         69.0   32653217.0   \n",
       "\n",
       "   Less Total Operating Expense  Total Other Expenses  \\\n",
       "1                    50776060.0                   0.0   \n",
       "2                     6699445.0                -522.0   \n",
       "3                    89678418.0                   0.0   \n",
       "5                    84572642.0                   0.0   \n",
       "6                    36275012.0                   0.0   \n",
       "\n",
       "   Combined Outpatient + Inpatient Total Charges  Net Patient Revenue  \\\n",
       "1                                    124601974.0           56681179.0   \n",
       "2                                     21693793.0            4729380.0   \n",
       "3                                    140704369.0           84069106.0   \n",
       "5                                    122176726.0           85209941.0   \n",
       "6                                     82947748.0           35195713.0   \n",
       "\n",
       "   Total Other Income  Net Income  Cost To Charge Ratio Hospital Size  \n",
       "1           1211964.0   7117083.0              0.342405         Small  \n",
       "2             35748.0  -1933795.0              0.222040        Medium  \n",
       "3           5668549.0     59237.0              0.504135         Small  \n",
       "5           4316918.0   4954217.0              0.572100         Small  \n",
       "6           3092079.0   2012780.0              0.393660         Small  "
      ]
     },
     "execution_count": 280,
     "metadata": {},
     "output_type": "execute_result"
    }
   ],
   "source": [
    "trail.head()"
   ]
  },
  {
   "cell_type": "code",
   "execution_count": 281,
   "id": "a1cd86f9-dbbb-42d7-bebb-34db8d8c626c",
   "metadata": {},
   "outputs": [],
   "source": [
    "# Rename Columns \n",
    "\n",
    "\n",
    "trail.columns = ['Year', 'Report Unique Number', 'Hospital Name', 'City', 'State Code',\n",
    "       'Rural Versus Urban', 'Provider Type',\n",
    "       'Type of Control', 'Number of Beds',\n",
    "       'Costs', 'Total Operating Expenses', 'Additional Expenses',\n",
    "       'Charges(Price in Bills)', 'Patient Revenue', 'Additional Revenue',\n",
    "       'Net Income', 'Cost To Charge Ratio', 'Hospital Size' ]"
   ]
  },
  {
   "cell_type": "code",
   "execution_count": 282,
   "id": "daeae106-23cc-4919-b1c7-00a4cbad22c6",
   "metadata": {},
   "outputs": [
    {
     "name": "stderr",
     "output_type": "stream",
     "text": [
      "C:\\Users\\user\\AppData\\Local\\Temp\\ipykernel_21796\\3688714802.py:4: SettingWithCopyWarning: \n",
      "A value is trying to be set on a copy of a slice from a DataFrame.\n",
      "Try using .loc[row_indexer,col_indexer] = value instead\n",
      "\n",
      "See the caveats in the documentation: https://pandas.pydata.org/pandas-docs/stable/user_guide/indexing.html#returning-a-view-versus-a-copy\n",
      "  trail['Total Costs'] = trail['Total Operating Expenses']+ trail['Additional Expenses']\n"
     ]
    }
   ],
   "source": [
    "# Create a Total Costs Column\n",
    "\n",
    "\n",
    "trail['Total Costs'] = trail['Total Operating Expenses']+ trail['Additional Expenses']\n"
   ]
  },
  {
   "cell_type": "code",
   "execution_count": 283,
   "id": "5709ac78-1065-4fb8-a868-caa09c66a921",
   "metadata": {},
   "outputs": [
    {
     "name": "stderr",
     "output_type": "stream",
     "text": [
      "C:\\Users\\user\\AppData\\Local\\Temp\\ipykernel_21796\\989442986.py:4: SettingWithCopyWarning: \n",
      "A value is trying to be set on a copy of a slice from a DataFrame.\n",
      "Try using .loc[row_indexer,col_indexer] = value instead\n",
      "\n",
      "See the caveats in the documentation: https://pandas.pydata.org/pandas-docs/stable/user_guide/indexing.html#returning-a-view-versus-a-copy\n",
      "  trail['Total Revenue'] = trail['Patient Revenue'] + trail['Additional Revenue']\n"
     ]
    }
   ],
   "source": [
    "# Create a Total Revenue Column\n",
    "\n",
    "\n",
    "trail['Total Revenue'] = trail['Patient Revenue'] + trail['Additional Revenue']\n"
   ]
  },
  {
   "cell_type": "code",
   "execution_count": 284,
   "id": "5a33406f-2cf5-4034-aca6-011d2649f4e7",
   "metadata": {},
   "outputs": [
    {
     "data": {
      "text/html": [
       "<div>\n",
       "<style scoped>\n",
       "    .dataframe tbody tr th:only-of-type {\n",
       "        vertical-align: middle;\n",
       "    }\n",
       "\n",
       "    .dataframe tbody tr th {\n",
       "        vertical-align: top;\n",
       "    }\n",
       "\n",
       "    .dataframe thead th {\n",
       "        text-align: right;\n",
       "    }\n",
       "</style>\n",
       "<table border=\"1\" class=\"dataframe\">\n",
       "  <thead>\n",
       "    <tr style=\"text-align: right;\">\n",
       "      <th></th>\n",
       "      <th>Year</th>\n",
       "      <th>Report Unique Number</th>\n",
       "      <th>Hospital Name</th>\n",
       "      <th>City</th>\n",
       "      <th>State Code</th>\n",
       "      <th>Rural Versus Urban</th>\n",
       "      <th>Provider Type</th>\n",
       "      <th>Type of Control</th>\n",
       "      <th>Number of Beds</th>\n",
       "      <th>Costs</th>\n",
       "      <th>Total Operating Expenses</th>\n",
       "      <th>Additional Expenses</th>\n",
       "      <th>Charges(Price in Bills)</th>\n",
       "      <th>Patient Revenue</th>\n",
       "      <th>Additional Revenue</th>\n",
       "      <th>Net Income</th>\n",
       "      <th>Cost To Charge Ratio</th>\n",
       "      <th>Hospital Size</th>\n",
       "      <th>Total Costs</th>\n",
       "      <th>Total Revenue</th>\n",
       "    </tr>\n",
       "  </thead>\n",
       "  <tbody>\n",
       "    <tr>\n",
       "      <th>1</th>\n",
       "      <td>2018</td>\n",
       "      <td>644158</td>\n",
       "      <td>CHOWAN HOSPITAL INC.</td>\n",
       "      <td>EDENTON</td>\n",
       "      <td>NC</td>\n",
       "      <td>R</td>\n",
       "      <td>General Short Term</td>\n",
       "      <td>Voluntary Non-Profit</td>\n",
       "      <td>25.0</td>\n",
       "      <td>42664330.0</td>\n",
       "      <td>50776060.0</td>\n",
       "      <td>0.0</td>\n",
       "      <td>124601974.0</td>\n",
       "      <td>56681179.0</td>\n",
       "      <td>1211964.0</td>\n",
       "      <td>7117083.0</td>\n",
       "      <td>0.342405</td>\n",
       "      <td>Small</td>\n",
       "      <td>50776060.0</td>\n",
       "      <td>57893143.0</td>\n",
       "    </tr>\n",
       "    <tr>\n",
       "      <th>2</th>\n",
       "      <td>2018</td>\n",
       "      <td>644255</td>\n",
       "      <td>SPECIALTY HOSPITAL OF JACKSONVILLE</td>\n",
       "      <td>JACKSONVILLE</td>\n",
       "      <td>FL</td>\n",
       "      <td>U</td>\n",
       "      <td>General Long Term</td>\n",
       "      <td>Private</td>\n",
       "      <td>107.0</td>\n",
       "      <td>4816886.0</td>\n",
       "      <td>6699445.0</td>\n",
       "      <td>-522.0</td>\n",
       "      <td>21693793.0</td>\n",
       "      <td>4729380.0</td>\n",
       "      <td>35748.0</td>\n",
       "      <td>-1933795.0</td>\n",
       "      <td>0.222040</td>\n",
       "      <td>Medium</td>\n",
       "      <td>6698923.0</td>\n",
       "      <td>4765128.0</td>\n",
       "    </tr>\n",
       "  </tbody>\n",
       "</table>\n",
       "</div>"
      ],
      "text/plain": [
       "   Year  Report Unique Number                       Hospital Name  \\\n",
       "1  2018                644158                CHOWAN HOSPITAL INC.   \n",
       "2  2018                644255  SPECIALTY HOSPITAL OF JACKSONVILLE   \n",
       "\n",
       "           City State Code Rural Versus Urban       Provider Type  \\\n",
       "1       EDENTON         NC                  R  General Short Term   \n",
       "2  JACKSONVILLE         FL                  U   General Long Term   \n",
       "\n",
       "        Type of Control  Number of Beds       Costs  Total Operating Expenses  \\\n",
       "1  Voluntary Non-Profit            25.0  42664330.0                50776060.0   \n",
       "2               Private           107.0   4816886.0                 6699445.0   \n",
       "\n",
       "   Additional Expenses  Charges(Price in Bills)  Patient Revenue  \\\n",
       "1                  0.0              124601974.0       56681179.0   \n",
       "2               -522.0               21693793.0        4729380.0   \n",
       "\n",
       "   Additional Revenue  Net Income  Cost To Charge Ratio Hospital Size  \\\n",
       "1           1211964.0   7117083.0              0.342405         Small   \n",
       "2             35748.0  -1933795.0              0.222040        Medium   \n",
       "\n",
       "   Total Costs  Total Revenue  \n",
       "1   50776060.0     57893143.0  \n",
       "2    6698923.0      4765128.0  "
      ]
     },
     "execution_count": 284,
     "metadata": {},
     "output_type": "execute_result"
    }
   ],
   "source": [
    "trail.head(2)"
   ]
  },
  {
   "cell_type": "code",
   "execution_count": 285,
   "id": "d069e07e-1378-4024-ac5e-e2c85eb7cf29",
   "metadata": {},
   "outputs": [
    {
     "name": "stderr",
     "output_type": "stream",
     "text": [
      "C:\\Users\\user\\AppData\\Local\\Temp\\ipykernel_21796\\3795890768.py:4: SettingWithCopyWarning: \n",
      "A value is trying to be set on a copy of a slice from a DataFrame.\n",
      "Try using .loc[row_indexer,col_indexer] = value instead\n",
      "\n",
      "See the caveats in the documentation: https://pandas.pydata.org/pandas-docs/stable/user_guide/indexing.html#returning-a-view-versus-a-copy\n",
      "  trail['Profit Margin'] = (trail['Total Revenue'] - trail['Total Costs'])/ trail['Total Revenue']\n"
     ]
    }
   ],
   "source": [
    "# Create a profit margin column\n",
    "\n",
    "\n",
    "trail['Profit Margin'] = (trail['Total Revenue'] - trail['Total Costs'])/ trail['Total Revenue']"
   ]
  },
  {
   "cell_type": "code",
   "execution_count": 286,
   "id": "63ab983b-29dd-4467-b3ff-0fb0d4d0ff8d",
   "metadata": {},
   "outputs": [
    {
     "name": "stderr",
     "output_type": "stream",
     "text": [
      "C:\\Users\\user\\AppData\\Local\\Temp\\ipykernel_21796\\4074357346.py:2: SettingWithCopyWarning: \n",
      "A value is trying to be set on a copy of a slice from a DataFrame.\n",
      "Try using .loc[row_indexer,col_indexer] = value instead\n",
      "\n",
      "See the caveats in the documentation: https://pandas.pydata.org/pandas-docs/stable/user_guide/indexing.html#returning-a-view-versus-a-copy\n",
      "  trail['Real Cost to Charge Ratio'] = trail['Total Operating Expenses'] / trail['Patient Revenue']\n"
     ]
    }
   ],
   "source": [
    "# Real Cost to Charge Ratio\n",
    "trail['Real Cost to Charge Ratio'] = trail['Total Operating Expenses'] / trail['Patient Revenue']\n"
   ]
  },
  {
   "cell_type": "markdown",
   "id": "af5cfc4f-7002-47b4-828f-9588b767a964",
   "metadata": {},
   "source": [
    "#### 3.2.4 Data Types"
   ]
  },
  {
   "cell_type": "code",
   "execution_count": 287,
   "id": "55a02841-40d1-4569-a102-5466e9054e20",
   "metadata": {},
   "outputs": [
    {
     "data": {
      "text/plain": [
       "Year                           int64\n",
       "Report Unique Number           int64\n",
       "Hospital Name                 object\n",
       "City                          object\n",
       "State Code                    object\n",
       "Rural Versus Urban            object\n",
       "Provider Type                 object\n",
       "Type of Control               object\n",
       "Number of Beds               float64\n",
       "Costs                        float64\n",
       "Total Operating Expenses     float64\n",
       "Additional Expenses          float64\n",
       "Charges(Price in Bills)      float64\n",
       "Patient Revenue              float64\n",
       "Additional Revenue           float64\n",
       "Net Income                   float64\n",
       "Cost To Charge Ratio         float64\n",
       "Hospital Size                 object\n",
       "Total Costs                  float64\n",
       "Total Revenue                float64\n",
       "Profit Margin                float64\n",
       "Real Cost to Charge Ratio    float64\n",
       "dtype: object"
      ]
     },
     "execution_count": 287,
     "metadata": {},
     "output_type": "execute_result"
    }
   ],
   "source": [
    "# Correct data types\n",
    "\n",
    "trail.dtypes"
   ]
  },
  {
   "cell_type": "code",
   "execution_count": 288,
   "id": "5b4fe606-ec78-4e68-a4cb-7017d83e65e3",
   "metadata": {},
   "outputs": [
    {
     "data": {
      "text/html": [
       "<div>\n",
       "<style scoped>\n",
       "    .dataframe tbody tr th:only-of-type {\n",
       "        vertical-align: middle;\n",
       "    }\n",
       "\n",
       "    .dataframe tbody tr th {\n",
       "        vertical-align: top;\n",
       "    }\n",
       "\n",
       "    .dataframe thead th {\n",
       "        text-align: right;\n",
       "    }\n",
       "</style>\n",
       "<table border=\"1\" class=\"dataframe\">\n",
       "  <thead>\n",
       "    <tr style=\"text-align: right;\">\n",
       "      <th></th>\n",
       "      <th>Year</th>\n",
       "      <th>Report Unique Number</th>\n",
       "      <th>Hospital Name</th>\n",
       "      <th>City</th>\n",
       "      <th>State Code</th>\n",
       "      <th>Rural Versus Urban</th>\n",
       "      <th>Provider Type</th>\n",
       "      <th>Type of Control</th>\n",
       "      <th>Number of Beds</th>\n",
       "      <th>Costs</th>\n",
       "      <th>...</th>\n",
       "      <th>Charges(Price in Bills)</th>\n",
       "      <th>Patient Revenue</th>\n",
       "      <th>Additional Revenue</th>\n",
       "      <th>Net Income</th>\n",
       "      <th>Cost To Charge Ratio</th>\n",
       "      <th>Hospital Size</th>\n",
       "      <th>Total Costs</th>\n",
       "      <th>Total Revenue</th>\n",
       "      <th>Profit Margin</th>\n",
       "      <th>Real Cost to Charge Ratio</th>\n",
       "    </tr>\n",
       "  </thead>\n",
       "  <tbody>\n",
       "    <tr>\n",
       "      <th>1</th>\n",
       "      <td>2018</td>\n",
       "      <td>644158</td>\n",
       "      <td>CHOWAN HOSPITAL INC.</td>\n",
       "      <td>EDENTON</td>\n",
       "      <td>NC</td>\n",
       "      <td>R</td>\n",
       "      <td>General Short Term</td>\n",
       "      <td>Voluntary Non-Profit</td>\n",
       "      <td>25.0</td>\n",
       "      <td>4.266433e+07</td>\n",
       "      <td>...</td>\n",
       "      <td>1.246020e+08</td>\n",
       "      <td>5.668118e+07</td>\n",
       "      <td>1211964.0</td>\n",
       "      <td>7117083.0</td>\n",
       "      <td>0.342405</td>\n",
       "      <td>Small</td>\n",
       "      <td>5.077606e+07</td>\n",
       "      <td>5.789314e+07</td>\n",
       "      <td>0.122935</td>\n",
       "      <td>0.895819</td>\n",
       "    </tr>\n",
       "    <tr>\n",
       "      <th>2</th>\n",
       "      <td>2018</td>\n",
       "      <td>644255</td>\n",
       "      <td>SPECIALTY HOSPITAL OF JACKSONVILLE</td>\n",
       "      <td>JACKSONVILLE</td>\n",
       "      <td>FL</td>\n",
       "      <td>U</td>\n",
       "      <td>General Long Term</td>\n",
       "      <td>Private</td>\n",
       "      <td>107.0</td>\n",
       "      <td>4.816886e+06</td>\n",
       "      <td>...</td>\n",
       "      <td>2.169379e+07</td>\n",
       "      <td>4.729380e+06</td>\n",
       "      <td>35748.0</td>\n",
       "      <td>-1933795.0</td>\n",
       "      <td>0.222040</td>\n",
       "      <td>Medium</td>\n",
       "      <td>6.698923e+06</td>\n",
       "      <td>4.765128e+06</td>\n",
       "      <td>-0.405822</td>\n",
       "      <td>1.416559</td>\n",
       "    </tr>\n",
       "    <tr>\n",
       "      <th>3</th>\n",
       "      <td>2018</td>\n",
       "      <td>644287</td>\n",
       "      <td>MARTHAS VINEYARD HOSPITAL</td>\n",
       "      <td>OAK BLUFFS</td>\n",
       "      <td>MA</td>\n",
       "      <td>R</td>\n",
       "      <td>Other</td>\n",
       "      <td>Voluntary Non-Profit</td>\n",
       "      <td>25.0</td>\n",
       "      <td>7.093403e+07</td>\n",
       "      <td>...</td>\n",
       "      <td>1.407044e+08</td>\n",
       "      <td>8.406911e+07</td>\n",
       "      <td>5668549.0</td>\n",
       "      <td>59237.0</td>\n",
       "      <td>0.504135</td>\n",
       "      <td>Small</td>\n",
       "      <td>8.967842e+07</td>\n",
       "      <td>8.973766e+07</td>\n",
       "      <td>0.000660</td>\n",
       "      <td>1.066723</td>\n",
       "    </tr>\n",
       "    <tr>\n",
       "      <th>5</th>\n",
       "      <td>2018</td>\n",
       "      <td>644638</td>\n",
       "      <td>LINCOLNHEALTH</td>\n",
       "      <td>BOOTHBAY HARBOR</td>\n",
       "      <td>ME</td>\n",
       "      <td>R</td>\n",
       "      <td>General Short Term</td>\n",
       "      <td>Voluntary Non-Profit</td>\n",
       "      <td>67.0</td>\n",
       "      <td>6.989727e+07</td>\n",
       "      <td>...</td>\n",
       "      <td>1.221767e+08</td>\n",
       "      <td>8.520994e+07</td>\n",
       "      <td>4316918.0</td>\n",
       "      <td>4954217.0</td>\n",
       "      <td>0.572100</td>\n",
       "      <td>Small</td>\n",
       "      <td>8.457264e+07</td>\n",
       "      <td>8.952686e+07</td>\n",
       "      <td>0.055338</td>\n",
       "      <td>0.992521</td>\n",
       "    </tr>\n",
       "    <tr>\n",
       "      <th>6</th>\n",
       "      <td>2018</td>\n",
       "      <td>645205</td>\n",
       "      <td>ROANE GENERAL HOSPITAL</td>\n",
       "      <td>SPENCER</td>\n",
       "      <td>WV</td>\n",
       "      <td>R</td>\n",
       "      <td>General Short Term</td>\n",
       "      <td>Voluntary Non-Profit</td>\n",
       "      <td>69.0</td>\n",
       "      <td>3.265322e+07</td>\n",
       "      <td>...</td>\n",
       "      <td>8.294775e+07</td>\n",
       "      <td>3.519571e+07</td>\n",
       "      <td>3092079.0</td>\n",
       "      <td>2012780.0</td>\n",
       "      <td>0.393660</td>\n",
       "      <td>Small</td>\n",
       "      <td>3.627501e+07</td>\n",
       "      <td>3.828779e+07</td>\n",
       "      <td>0.052570</td>\n",
       "      <td>1.030666</td>\n",
       "    </tr>\n",
       "    <tr>\n",
       "      <th>...</th>\n",
       "      <td>...</td>\n",
       "      <td>...</td>\n",
       "      <td>...</td>\n",
       "      <td>...</td>\n",
       "      <td>...</td>\n",
       "      <td>...</td>\n",
       "      <td>...</td>\n",
       "      <td>...</td>\n",
       "      <td>...</td>\n",
       "      <td>...</td>\n",
       "      <td>...</td>\n",
       "      <td>...</td>\n",
       "      <td>...</td>\n",
       "      <td>...</td>\n",
       "      <td>...</td>\n",
       "      <td>...</td>\n",
       "      <td>...</td>\n",
       "      <td>...</td>\n",
       "      <td>...</td>\n",
       "      <td>...</td>\n",
       "      <td>...</td>\n",
       "    </tr>\n",
       "    <tr>\n",
       "      <th>30452</th>\n",
       "      <td>2022</td>\n",
       "      <td>776749</td>\n",
       "      <td>COVINGTON COUNTY HOSPITAL</td>\n",
       "      <td>COLLINS</td>\n",
       "      <td>MS</td>\n",
       "      <td>U</td>\n",
       "      <td>General Short Term</td>\n",
       "      <td>Public</td>\n",
       "      <td>35.0</td>\n",
       "      <td>3.070868e+07</td>\n",
       "      <td>...</td>\n",
       "      <td>5.384020e+07</td>\n",
       "      <td>3.365041e+07</td>\n",
       "      <td>9720711.0</td>\n",
       "      <td>883984.0</td>\n",
       "      <td>0.570367</td>\n",
       "      <td>Small</td>\n",
       "      <td>4.248714e+07</td>\n",
       "      <td>4.337112e+07</td>\n",
       "      <td>0.020382</td>\n",
       "      <td>1.262604</td>\n",
       "    </tr>\n",
       "    <tr>\n",
       "      <th>30453</th>\n",
       "      <td>2022</td>\n",
       "      <td>776764</td>\n",
       "      <td>PUTNAM HOSPITAL CENTER</td>\n",
       "      <td>CARMEL</td>\n",
       "      <td>NY</td>\n",
       "      <td>U</td>\n",
       "      <td>General Short Term</td>\n",
       "      <td>Voluntary Non-Profit</td>\n",
       "      <td>101.0</td>\n",
       "      <td>1.325750e+08</td>\n",
       "      <td>...</td>\n",
       "      <td>3.453937e+08</td>\n",
       "      <td>1.114786e+08</td>\n",
       "      <td>8546504.0</td>\n",
       "      <td>-38414529.0</td>\n",
       "      <td>0.383837</td>\n",
       "      <td>Medium</td>\n",
       "      <td>1.584396e+08</td>\n",
       "      <td>1.200251e+08</td>\n",
       "      <td>-0.320054</td>\n",
       "      <td>1.311678</td>\n",
       "    </tr>\n",
       "    <tr>\n",
       "      <th>30454</th>\n",
       "      <td>2022</td>\n",
       "      <td>776821</td>\n",
       "      <td>TEXAS CHILDRENS HOSPITAL</td>\n",
       "      <td>HOUSTON</td>\n",
       "      <td>TX</td>\n",
       "      <td>U</td>\n",
       "      <td>Children</td>\n",
       "      <td>Voluntary Non-Profit</td>\n",
       "      <td>863.0</td>\n",
       "      <td>2.260423e+09</td>\n",
       "      <td>...</td>\n",
       "      <td>6.659822e+09</td>\n",
       "      <td>2.496681e+09</td>\n",
       "      <td>563597452.0</td>\n",
       "      <td>-179476190.0</td>\n",
       "      <td>0.339412</td>\n",
       "      <td>Very Large</td>\n",
       "      <td>3.239754e+09</td>\n",
       "      <td>3.060278e+09</td>\n",
       "      <td>-0.058647</td>\n",
       "      <td>1.298579</td>\n",
       "    </tr>\n",
       "    <tr>\n",
       "      <th>30455</th>\n",
       "      <td>2022</td>\n",
       "      <td>776830</td>\n",
       "      <td>WHEATON FRANCISCAN HEALTHCARE - ALL</td>\n",
       "      <td>RACINE</td>\n",
       "      <td>WI</td>\n",
       "      <td>U</td>\n",
       "      <td>General Short Term</td>\n",
       "      <td>Voluntary Non-Profit</td>\n",
       "      <td>299.0</td>\n",
       "      <td>2.536489e+08</td>\n",
       "      <td>...</td>\n",
       "      <td>8.825221e+08</td>\n",
       "      <td>2.675222e+08</td>\n",
       "      <td>46937294.0</td>\n",
       "      <td>-380376.0</td>\n",
       "      <td>0.287414</td>\n",
       "      <td>Medium</td>\n",
       "      <td>3.148398e+08</td>\n",
       "      <td>3.144595e+08</td>\n",
       "      <td>-0.001210</td>\n",
       "      <td>1.176396</td>\n",
       "    </tr>\n",
       "    <tr>\n",
       "      <th>30456</th>\n",
       "      <td>2022</td>\n",
       "      <td>776832</td>\n",
       "      <td>ASCENSION SE WISCONSIN HOSPITAL  INC</td>\n",
       "      <td>MILWAUKEE</td>\n",
       "      <td>WI</td>\n",
       "      <td>U</td>\n",
       "      <td>General Short Term</td>\n",
       "      <td>Voluntary Non-Profit</td>\n",
       "      <td>310.0</td>\n",
       "      <td>3.351492e+08</td>\n",
       "      <td>...</td>\n",
       "      <td>1.239119e+09</td>\n",
       "      <td>3.770394e+08</td>\n",
       "      <td>5402430.0</td>\n",
       "      <td>7602285.0</td>\n",
       "      <td>0.270474</td>\n",
       "      <td>Large</td>\n",
       "      <td>3.748395e+08</td>\n",
       "      <td>3.824418e+08</td>\n",
       "      <td>0.019878</td>\n",
       "      <td>0.992101</td>\n",
       "    </tr>\n",
       "  </tbody>\n",
       "</table>\n",
       "<p>29178 rows × 22 columns</p>\n",
       "</div>"
      ],
      "text/plain": [
       "       Year  Report Unique Number                         Hospital Name  \\\n",
       "1      2018                644158                  CHOWAN HOSPITAL INC.   \n",
       "2      2018                644255    SPECIALTY HOSPITAL OF JACKSONVILLE   \n",
       "3      2018                644287             MARTHAS VINEYARD HOSPITAL   \n",
       "5      2018                644638                         LINCOLNHEALTH   \n",
       "6      2018                645205                ROANE GENERAL HOSPITAL   \n",
       "...     ...                   ...                                   ...   \n",
       "30452  2022                776749             COVINGTON COUNTY HOSPITAL   \n",
       "30453  2022                776764                PUTNAM HOSPITAL CENTER   \n",
       "30454  2022                776821              TEXAS CHILDRENS HOSPITAL   \n",
       "30455  2022                776830   WHEATON FRANCISCAN HEALTHCARE - ALL   \n",
       "30456  2022                776832  ASCENSION SE WISCONSIN HOSPITAL  INC   \n",
       "\n",
       "                  City State Code Rural Versus Urban       Provider Type  \\\n",
       "1              EDENTON         NC                  R  General Short Term   \n",
       "2         JACKSONVILLE         FL                  U   General Long Term   \n",
       "3           OAK BLUFFS         MA                  R               Other   \n",
       "5      BOOTHBAY HARBOR         ME                  R  General Short Term   \n",
       "6              SPENCER         WV                  R  General Short Term   \n",
       "...                ...        ...                ...                 ...   \n",
       "30452          COLLINS         MS                  U  General Short Term   \n",
       "30453           CARMEL         NY                  U  General Short Term   \n",
       "30454          HOUSTON         TX                  U            Children   \n",
       "30455           RACINE         WI                  U  General Short Term   \n",
       "30456        MILWAUKEE         WI                  U  General Short Term   \n",
       "\n",
       "            Type of Control  Number of Beds         Costs  ...  \\\n",
       "1      Voluntary Non-Profit            25.0  4.266433e+07  ...   \n",
       "2                   Private           107.0  4.816886e+06  ...   \n",
       "3      Voluntary Non-Profit            25.0  7.093403e+07  ...   \n",
       "5      Voluntary Non-Profit            67.0  6.989727e+07  ...   \n",
       "6      Voluntary Non-Profit            69.0  3.265322e+07  ...   \n",
       "...                     ...             ...           ...  ...   \n",
       "30452                Public            35.0  3.070868e+07  ...   \n",
       "30453  Voluntary Non-Profit           101.0  1.325750e+08  ...   \n",
       "30454  Voluntary Non-Profit           863.0  2.260423e+09  ...   \n",
       "30455  Voluntary Non-Profit           299.0  2.536489e+08  ...   \n",
       "30456  Voluntary Non-Profit           310.0  3.351492e+08  ...   \n",
       "\n",
       "       Charges(Price in Bills)  Patient Revenue  Additional Revenue  \\\n",
       "1                 1.246020e+08     5.668118e+07           1211964.0   \n",
       "2                 2.169379e+07     4.729380e+06             35748.0   \n",
       "3                 1.407044e+08     8.406911e+07           5668549.0   \n",
       "5                 1.221767e+08     8.520994e+07           4316918.0   \n",
       "6                 8.294775e+07     3.519571e+07           3092079.0   \n",
       "...                        ...              ...                 ...   \n",
       "30452             5.384020e+07     3.365041e+07           9720711.0   \n",
       "30453             3.453937e+08     1.114786e+08           8546504.0   \n",
       "30454             6.659822e+09     2.496681e+09         563597452.0   \n",
       "30455             8.825221e+08     2.675222e+08          46937294.0   \n",
       "30456             1.239119e+09     3.770394e+08           5402430.0   \n",
       "\n",
       "        Net Income  Cost To Charge Ratio  Hospital Size   Total Costs  \\\n",
       "1        7117083.0              0.342405          Small  5.077606e+07   \n",
       "2       -1933795.0              0.222040         Medium  6.698923e+06   \n",
       "3          59237.0              0.504135          Small  8.967842e+07   \n",
       "5        4954217.0              0.572100          Small  8.457264e+07   \n",
       "6        2012780.0              0.393660          Small  3.627501e+07   \n",
       "...            ...                   ...            ...           ...   \n",
       "30452     883984.0              0.570367          Small  4.248714e+07   \n",
       "30453  -38414529.0              0.383837         Medium  1.584396e+08   \n",
       "30454 -179476190.0              0.339412     Very Large  3.239754e+09   \n",
       "30455    -380376.0              0.287414         Medium  3.148398e+08   \n",
       "30456    7602285.0              0.270474          Large  3.748395e+08   \n",
       "\n",
       "      Total Revenue  Profit Margin  Real Cost to Charge Ratio  \n",
       "1      5.789314e+07       0.122935                   0.895819  \n",
       "2      4.765128e+06      -0.405822                   1.416559  \n",
       "3      8.973766e+07       0.000660                   1.066723  \n",
       "5      8.952686e+07       0.055338                   0.992521  \n",
       "6      3.828779e+07       0.052570                   1.030666  \n",
       "...             ...            ...                        ...  \n",
       "30452  4.337112e+07       0.020382                   1.262604  \n",
       "30453  1.200251e+08      -0.320054                   1.311678  \n",
       "30454  3.060278e+09      -0.058647                   1.298579  \n",
       "30455  3.144595e+08      -0.001210                   1.176396  \n",
       "30456  3.824418e+08       0.019878                   0.992101  \n",
       "\n",
       "[29178 rows x 22 columns]"
      ]
     },
     "execution_count": 288,
     "metadata": {},
     "output_type": "execute_result"
    }
   ],
   "source": [
    "trail"
   ]
  },
  {
   "cell_type": "markdown",
   "id": "f6d59d5e-5bd1-4055-880b-cbe0727a434f",
   "metadata": {},
   "source": [
    "### 3.3 Saving Clean data "
   ]
  },
  {
   "cell_type": "code",
   "execution_count": 289,
   "id": "77d9c2ed-3e4e-4168-8d9e-de8a6a2154d9",
   "metadata": {},
   "outputs": [],
   "source": [
    "# Saving the clean data as 'CMS' \n",
    "\n",
    "trail.to_csv('CMS.csv', index = False)"
   ]
  },
  {
   "cell_type": "markdown",
   "id": "e5054313-19e5-4ddb-b250-a3c9cc197c2c",
   "metadata": {},
   "source": [
    "## 4.0 Analysis "
   ]
  },
  {
   "cell_type": "markdown",
   "id": "5410a580-8e8b-4d9a-8c97-ac4be9835e17",
   "metadata": {},
   "source": [
    "<h3> <span style=\"color:royalblue;\">All the visualizations presented in this report were created in Power BI</span></h3>"
   ]
  },
  {
   "cell_type": "code",
   "execution_count": 30,
   "id": "469bd496-f301-449c-9a09-04cc337a70f7",
   "metadata": {},
   "outputs": [],
   "source": [
    "# The median profit increased by 123% from 2019 to 2020, fell by 13% from 2020 to 2021, and then dropped sharply by 72% from 2021 to 2022. "
   ]
  },
  {
   "cell_type": "markdown",
   "id": "270864c0-7486-4e7b-b466-b45eafe7bbd5",
   "metadata": {},
   "source": [
    "![hd](timeframe.png)"
   ]
  },
  {
   "cell_type": "code",
   "execution_count": 31,
   "id": "a58ac00f-32d4-4265-89bc-a90d91f11710",
   "metadata": {},
   "outputs": [],
   "source": [
    "# The majority of hospitals are General short-term hospitals, and the least are other (children , cancer , etc..)  "
   ]
  },
  {
   "cell_type": "markdown",
   "id": "1030c9cb-db31-458a-a183-2c62f0410ab6",
   "metadata": {},
   "source": [
    "![hd](HospitalDistribution1.png)"
   ]
  },
  {
   "cell_type": "code",
   "execution_count": 33,
   "id": "3d99a207-cc0b-4a92-98e3-bee79ea4220c",
   "metadata": {},
   "outputs": [],
   "source": [
    "# Half of the hospitals are non-profit, while the other half are a mix of private and public, with private hospitals being the larger group."
   ]
  },
  {
   "cell_type": "markdown",
   "id": "13a7ff2b-224d-48be-a66f-66f6877f13e6",
   "metadata": {},
   "source": [
    "![hd](HospitalDistribution2.png)"
   ]
  },
  {
   "cell_type": "code",
   "execution_count": 34,
   "id": "d6504996-ba89-4cbe-96c2-f2a923cd1de5",
   "metadata": {},
   "outputs": [],
   "source": [
    "# More than half of the hospitals are small, followed by a significant portion that are medium-sized, while large and very large hospitals make up a smaller share."
   ]
  },
  {
   "cell_type": "markdown",
   "id": "2375e4a2-ffe0-4bc0-aebd-4b1f3e9ecaff",
   "metadata": {},
   "source": [
    "![hd](HospitalDistribution.png)"
   ]
  },
  {
   "cell_type": "code",
   "execution_count": 35,
   "id": "3d656a83-3246-434f-bf00-9f8ac0f808dd",
   "metadata": {},
   "outputs": [],
   "source": [
    "# I am using a slicer to show the change over the years\n",
    "# All sectors rose from 2018 to 2020 and fell from 2020 to 2022, most notably among non-profit and public hospitals."
   ]
  },
  {
   "cell_type": "markdown",
   "id": "e29f00f3-9d9c-441b-ada2-53beca126def",
   "metadata": {},
   "source": [
    "![hd](sector.png)"
   ]
  },
  {
   "cell_type": "code",
   "execution_count": 36,
   "id": "62e0c2a4-1b16-411f-b783-121815a01b0a",
   "metadata": {},
   "outputs": [],
   "source": [
    "# I am using a slicer to show the change over the years\n",
    "# The profits of different hospital sizes rose from 2018 to 2020 and fell from 2020 to 2022, all were highly affected, but small hospitals were a bit better."
   ]
  },
  {
   "cell_type": "markdown",
   "id": "c9de88ed-0647-4bf7-ab79-db24c88e84ea",
   "metadata": {},
   "source": [
    "![w](size.png)"
   ]
  },
  {
   "cell_type": "code",
   "execution_count": 37,
   "id": "ef261d49-c09a-4221-a99e-921019791e99",
   "metadata": {},
   "outputs": [],
   "source": [
    "# The profits of different hospital types rose from 2018 to 2020 and fell from 2020 to 2022. General short-term hospitals were highly affected compared to others "
   ]
  },
  {
   "cell_type": "markdown",
   "id": "53bc8f26-940e-4e66-b795-8571e859884f",
   "metadata": {},
   "source": [
    "![t](type.png)"
   ]
  },
  {
   "cell_type": "code",
   "execution_count": 38,
   "id": "69e3ced9-2c4e-4aee-b67d-6e023a4dcde0",
   "metadata": {},
   "outputs": [],
   "source": [
    "# Median profits rose in 2020 and declined sharply in 2022 for both, with GSTH exhibiting more pronounced fluctuations and finishing below its initial value."
   ]
  },
  {
   "cell_type": "markdown",
   "id": "0efe871c-577c-48e6-a719-f0f72ff68d5f",
   "metadata": {},
   "source": [
    "![ww](profit.png)"
   ]
  },
  {
   "cell_type": "code",
   "execution_count": 40,
   "id": "b6d44141-7ff9-4201-8057-f087aa9442ff",
   "metadata": {},
   "outputs": [],
   "source": [
    "# Median revenue and costs showed a steady upward trend"
   ]
  },
  {
   "cell_type": "markdown",
   "id": "c3b94227-9945-4d0d-9232-b9d2c901a738",
   "metadata": {},
   "source": [
    "![dd](profitp1.png)"
   ]
  },
  {
   "cell_type": "code",
   "execution_count": 41,
   "id": "c6066179-3a1f-4438-8c72-167d4d18ae5a",
   "metadata": {},
   "outputs": [],
   "source": [
    "# Median revenue and costs showed a steady upward trend"
   ]
  },
  {
   "cell_type": "markdown",
   "id": "4c8cd063-6eee-482e-a9e9-2789c2890a30",
   "metadata": {},
   "source": [
    "![e](profitp.png)"
   ]
  },
  {
   "cell_type": "code",
   "execution_count": 42,
   "id": "4714434e-111b-4a71-8ba2-0bc32956fb33",
   "metadata": {
    "scrolled": true
   },
   "outputs": [],
   "source": [
    "# General Short Term Hospitals showed a significant upward trend, while Other Hospitals maintained stable operational costs"
   ]
  },
  {
   "cell_type": "markdown",
   "id": "7734e6e3-d226-4b12-9fda-f49d74445747",
   "metadata": {},
   "source": [
    "![vb](cost1.png)"
   ]
  },
  {
   "cell_type": "code",
   "execution_count": 43,
   "id": "f6d56a29-5a97-436d-a8ff-8d78763504f0",
   "metadata": {
    "scrolled": true
   },
   "outputs": [],
   "source": [
    "# General Short Term Hospitals saw a significant decrease in additional costs in 2020, followed by a sharp increase in 2022. Other Hospitals exhibited a more stable trend."
   ]
  },
  {
   "cell_type": "markdown",
   "id": "6baed479-77f8-49b9-83d9-9f767eb1794c",
   "metadata": {},
   "source": [
    "![ff](cost.png)"
   ]
  },
  {
   "cell_type": "code",
   "execution_count": 44,
   "id": "ea11a8ab-9b65-4b31-8d53-6f7ada406803",
   "metadata": {},
   "outputs": [],
   "source": [
    "# General Short Term Hospitals showed a significant upward trend, while Other Hospitals maintained a stable patient revenue"
   ]
  },
  {
   "cell_type": "markdown",
   "id": "0e5e3243-9cbb-4335-93b4-d596dd59a7b8",
   "metadata": {},
   "source": [
    "![b](revenue1.png)"
   ]
  },
  {
   "cell_type": "code",
   "execution_count": 45,
   "id": "01fe2acf-e1b5-4468-83fb-6a7f79b0b000",
   "metadata": {},
   "outputs": [],
   "source": [
    "# General Short Term Hospitals saw a significant increase in additional revenue in 2020, followed by a decline in 2022. Other Hospitals exhibited a more stable trend."
   ]
  },
  {
   "cell_type": "markdown",
   "id": "c68ce172-8ac6-44a2-88d8-91d04b18e856",
   "metadata": {},
   "source": [
    "![ff](revenue.png)"
   ]
  },
  {
   "cell_type": "markdown",
   "id": "a8a716fb-7bc0-43f7-9691-45c9eeec1d84",
   "metadata": {},
   "source": [
    "## 5.0 Reccomendations"
   ]
  },
  {
   "cell_type": "markdown",
   "id": "e5b48816-e63d-49a3-8bd9-07c593804bc4",
   "metadata": {},
   "source": [
    "<h4 style=\"padding-left: 2em;\">\n",
    "    <span style=\"color:blue;\">1. Control Rising Additional Costs: </span>\n",
    "     <span style=\"color:royalblue;\">Hospitals should control additional costs by renegotiating contracts, reviewing and delaying </span>\n",
    "</h4>\n",
    "\n",
    "\n",
    "<h4 style=\"padding-left: 2em;\">\n",
    "     <span style=\"color:royalblue;\">non-essential capital projects, and limiting spending outside core patient care. </span>\n",
    "</h4>\n",
    "\n",
    "\n",
    "<h4 style=\"padding-left: 2em;\">\n",
    "    <span style=\"color:blue;\">2. Focus on Growing Patient Revenue: </span>\n",
    "     <span style=\"color:royalblue;\">Hospitals should grow patient revenue by expanding high-demand services and investing </span>\n",
    "     \n",
    "\n",
    "<h4 style=\"padding-left: 2em;\">\n",
    "     <span style=\"color:royalblue;\">in patient retention to increase volume and stabilize rising costs. </span>\n",
    "</h4>\n",
    "\n",
    "<h4 style=\"padding-left: 2em;\">\n",
    "    <span style=\"color:blue;\">3. Diversify Revenue Sources: </span><span style=\"color:royalblue;\"> Hospitals should diversify income by pursuing research grants, private partnerships, and specialized </h4>\n",
    "\n",
    "<h4 style=\"padding-left: 2em;\">\n",
    "     <span style=\"color:royalblue;\">programs to reduce reliance on external aid and improve financial stability. </span>\n",
    "</h4>\n",
    "\n",
    "<h4 style=\"padding-left: 2em;\"><span style=\"color:blue;\">4. Financial Planing: </span><span style=\"color:royalblue;\">Hospitals should build cash reserves, use predictive analytics, and implement a risk management framework</h4>\n",
    "\n",
    "<h4 style=\"padding-left: 2em;\">\n",
    "     <span style=\"color:royalblue;\">to strengthen long-term financial resilience</span>\n",
    "</h4>"
   ]
  },
  {
   "cell_type": "markdown",
   "id": "2eea0343-0497-4959-be99-1e60277d7324",
   "metadata": {},
   "source": [
    "## 6.0 Reference "
   ]
  },
  {
   "cell_type": "markdown",
   "id": "3f513478-1ee1-49cb-b58f-d22de2e8cef9",
   "metadata": {},
   "source": [
    "<h4><a>https://data.cms.gov/provider-compliance/cost-report/hospital-provider-cost-report</a></h4>\n",
    "<h4><a>https://pubmed.ncbi.nlm.nih.gov/27661861/</a></h4>\n",
    "<h4><a>https://www.gao.gov/assets/870/861661.pdf</a></h4>"
   ]
  }
 ],
 "metadata": {
  "kernelspec": {
   "display_name": "Python 3 (ipykernel)",
   "language": "python",
   "name": "python3"
  },
  "language_info": {
   "codemirror_mode": {
    "name": "ipython",
    "version": 3
   },
   "file_extension": ".py",
   "mimetype": "text/x-python",
   "name": "python",
   "nbconvert_exporter": "python",
   "pygments_lexer": "ipython3",
   "version": "3.12.7"
  }
 },
 "nbformat": 4,
 "nbformat_minor": 5
}
